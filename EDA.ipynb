{
 "cells": [
  {
   "cell_type": "markdown",
   "metadata": {},
   "source": [
    "### Load Libraries"
   ]
  },
  {
   "cell_type": "code",
   "execution_count": 1,
   "metadata": {},
   "outputs": [],
   "source": [
    "import pandas as pd\n",
    "\n",
    "import plotly\n",
    "import matplotlib.pyplot as plt\n",
    "import seaborn as sns\n",
    "sns.set()\n",
    "\n",
    "import random\n",
    "\n",
    "random.seed(1234)\n",
    "\n",
    "pd.set_option('display.max_rows', 500)\n",
    "pd.set_option('display.max_columns', 500)\n",
    "pd.set_option('display.width', 1000)\n",
    "\n",
    "#pd.set_option('display.max_colwidth', -1)"
   ]
  },
  {
   "cell_type": "markdown",
   "metadata": {},
   "source": [
    "### Import Azure Functions"
   ]
  },
  {
   "cell_type": "code",
   "execution_count": 116,
   "metadata": {},
   "outputs": [],
   "source": [
    "import os\n",
    "import requests\n",
    "from pprint import pprint\n",
    "\n",
    "subscription_key = ''",
    "endpoint = ''\n",
    "\n",
    "def sentiment_analysis_example(documents):\n",
    "    sentiment_url = endpoint + \"/text/analytics/v3.0/sentiment\"\n",
    "    headers = {\"Ocp-Apim-Subscription-Key\": subscription_key}\n",
    "    response = requests.post(sentiment_url, headers=headers, json=documents)\n",
    "    sentiments = response.json()\n",
    "    return sentiments\n",
    "\n",
    "\n",
    "def extract_key_phrases(documents):\n",
    "    keyphrase_url = endpoint + \"/text/analytics/v3.0/keyphrases\"\n",
    "    headers = {\"Ocp-Apim-Subscription-Key\": subscription_key}\n",
    "    response = requests.post(keyphrase_url, headers=headers, json=documents)\n",
    "    key_phrases = response.json()\n",
    "    return key_phrases\n",
    "\n",
    "\n",
    "def identify_entities(documents):\n",
    "    entities_url = endpoint + \"/text/analytics/v3.0/entities/recognition/general\"\n",
    "    headers = {\"Ocp-Apim-Subscription-Key\": subscription_key}\n",
    "    response = requests.post(entities_url, headers=headers, json=documents)\n",
    "    entities = response.json()\n",
    "    return entities\n",
    "\n",
    "\n",
    "def convert_text_to_JSON(data, index, bound):\n",
    "    \"\"\"\n",
    "    Convert text data to the format required by the\n",
    "    Text Analytics API. Example format included below in the main function.\n",
    "    \"\"\"\n",
    "    documents = {\n",
    "        \"documents\": []\n",
    "    }\n",
    "    data = data[index: index+bound]\n",
    "    row_id = 1\n",
    "    for row in data.iteritems():\n",
    "        doc = {\n",
    "            \"id\": str(row_id),\n",
    "            \"language\": \"en\",\n",
    "            \"text\": row[1].rstrip().strip()\n",
    "        }\n",
    "        documents['documents'].append(doc)\n",
    "        row_id += 1\n",
    "    return documents\n",
    "\n",
    "def parse_output(output_JSON):\n",
    "    \"\"\"\n",
    "    Convert the response body from the API request to\n",
    "    select the values you want.\n",
    "    \"\"\"\n",
    "    pass\n",
    "\n",
    "# documents = {\"documents\": [\n",
    "#     {\"id\": \"1\", \"language\": \"en\",\n",
    "#         \"text\": \"I do not like this hammer made by Black & Decker. It does not work correctly. I want to request a return.\"},\n",
    "#     {\"id\": \"2\", \"language\": \"es\",\n",
    "#         \"text\": \"I've been trying to talk to someone about my sink problem. It won't hold all of my fish.\"}\n",
    "# ]}\n",
    "\n",
    "# # Uncomment the line below if you choose to use the SDK in the future\n",
    "# # client = authenticate_client()\n",
    "# sentiments = sentiment_analysis_example(documents)\n",
    "# key_phrases = extract_key_phrases(documents)\n",
    "# entities = identify_entities(documents)"
   ]
  },
  {
   "cell_type": "markdown",
   "metadata": {},
   "source": [
    "### Import Data"
   ]
  },
  {
   "cell_type": "code",
   "execution_count": 3,
   "metadata": {},
   "outputs": [],
   "source": [
    "data = pd.read_csv(\"SPD_officer_involved_shooting_data.csv\")"
   ]
  },
  {
   "cell_type": "code",
   "execution_count": 4,
   "metadata": {},
   "outputs": [
    {
     "name": "stdout",
     "output_type": "stream",
     "text": [
      "<class 'pandas.core.frame.DataFrame'>\n",
      "RangeIndex: 156 entries, 0 to 155\n",
      "Data columns (total 25 columns):\n",
      " #   Column                Non-Null Count  Dtype  \n",
      "---  ------                --------------  -----  \n",
      " 0   FRB #                 75 non-null     object \n",
      " 1   Incident Number       156 non-null    int64  \n",
      " 2   Date / Time           156 non-null    object \n",
      " 3   Blurred Address       156 non-null    object \n",
      " 4   Longitude             156 non-null    float64\n",
      " 5   Latitude              156 non-null    float64\n",
      " 6   City                  156 non-null    object \n",
      " 7   State                 156 non-null    object \n",
      " 8   Rank                  156 non-null    object \n",
      " 9   Officer Gender        156 non-null    object \n",
      " 10  Officer Race          156 non-null    object \n",
      " 11  Years of SPD Service  154 non-null    object \n",
      " 12  Officer Injured       145 non-null    object \n",
      " 13  Number of Rounds      156 non-null    object \n",
      " 14  Subject Gender        156 non-null    object \n",
      " 15  Subject Race          156 non-null    object \n",
      " 16  Subject DOB           153 non-null    object \n",
      " 17  Subject Age           154 non-null    object \n",
      " 18  Subject Weapon        156 non-null    object \n",
      " 19  Type of Weapon        129 non-null    object \n",
      " 20  Fatal                 156 non-null    object \n",
      " 21  On-duty               156 non-null    object \n",
      " 22  Disposition           156 non-null    object \n",
      " 23  Officer Disciplined?  155 non-null    object \n",
      " 24  Summary               156 non-null    object \n",
      "dtypes: float64(2), int64(1), object(22)\n",
      "memory usage: 30.6+ KB\n"
     ]
    }
   ],
   "source": [
    "data.info()"
   ]
  },
  {
   "cell_type": "code",
   "execution_count": 5,
   "metadata": {},
   "outputs": [
    {
     "data": {
      "text/html": [
       "<div>\n",
       "<style scoped>\n",
       "    .dataframe tbody tr th:only-of-type {\n",
       "        vertical-align: middle;\n",
       "    }\n",
       "\n",
       "    .dataframe tbody tr th {\n",
       "        vertical-align: top;\n",
       "    }\n",
       "\n",
       "    .dataframe thead th {\n",
       "        text-align: right;\n",
       "    }\n",
       "</style>\n",
       "<table border=\"1\" class=\"dataframe\">\n",
       "  <thead>\n",
       "    <tr style=\"text-align: right;\">\n",
       "      <th></th>\n",
       "      <th>Incident Number</th>\n",
       "      <th>Longitude</th>\n",
       "      <th>Latitude</th>\n",
       "    </tr>\n",
       "  </thead>\n",
       "  <tbody>\n",
       "    <tr>\n",
       "      <th>count</th>\n",
       "      <td>1.560000e+02</td>\n",
       "      <td>156.000000</td>\n",
       "      <td>156.000000</td>\n",
       "    </tr>\n",
       "    <tr>\n",
       "      <th>mean</th>\n",
       "      <td>2.012705e+13</td>\n",
       "      <td>-122.195231</td>\n",
       "      <td>47.603107</td>\n",
       "    </tr>\n",
       "    <tr>\n",
       "      <th>std</th>\n",
       "      <td>4.056407e+10</td>\n",
       "      <td>1.505809</td>\n",
       "      <td>0.263320</td>\n",
       "    </tr>\n",
       "    <tr>\n",
       "      <th>min</th>\n",
       "      <td>2.005000e+13</td>\n",
       "      <td>-122.411392</td>\n",
       "      <td>44.414612</td>\n",
       "    </tr>\n",
       "    <tr>\n",
       "      <th>25%</th>\n",
       "      <td>2.009000e+13</td>\n",
       "      <td>-122.339003</td>\n",
       "      <td>47.595600</td>\n",
       "    </tr>\n",
       "    <tr>\n",
       "      <th>50%</th>\n",
       "      <td>2.014000e+13</td>\n",
       "      <td>-122.323604</td>\n",
       "      <td>47.618404</td>\n",
       "    </tr>\n",
       "    <tr>\n",
       "      <th>75%</th>\n",
       "      <td>2.016000e+13</td>\n",
       "      <td>-122.290325</td>\n",
       "      <td>47.676200</td>\n",
       "    </tr>\n",
       "    <tr>\n",
       "      <th>max</th>\n",
       "      <td>2.019000e+13</td>\n",
       "      <td>-103.514147</td>\n",
       "      <td>47.729558</td>\n",
       "    </tr>\n",
       "  </tbody>\n",
       "</table>\n",
       "</div>"
      ],
      "text/plain": [
       "       Incident Number   Longitude    Latitude\n",
       "count     1.560000e+02  156.000000  156.000000\n",
       "mean      2.012705e+13 -122.195231   47.603107\n",
       "std       4.056407e+10    1.505809    0.263320\n",
       "min       2.005000e+13 -122.411392   44.414612\n",
       "25%       2.009000e+13 -122.339003   47.595600\n",
       "50%       2.014000e+13 -122.323604   47.618404\n",
       "75%       2.016000e+13 -122.290325   47.676200\n",
       "max       2.019000e+13 -103.514147   47.729558"
      ]
     },
     "execution_count": 5,
     "metadata": {},
     "output_type": "execute_result"
    }
   ],
   "source": [
    "data.describe()"
   ]
  },
  {
   "cell_type": "code",
   "execution_count": 6,
   "metadata": {},
   "outputs": [
    {
     "data": {
      "text/plain": [
       "Index(['FRB #', 'Incident Number', 'Date / Time', 'Blurred Address', 'Longitude', 'Latitude', 'City', 'State', 'Rank', 'Officer Gender', 'Officer Race', 'Years of SPD Service', 'Officer Injured', 'Number of Rounds', 'Subject Gender', 'Subject Race', 'Subject DOB', 'Subject Age', 'Subject Weapon', 'Type of Weapon', 'Fatal', 'On-duty', 'Disposition', 'Officer Disciplined?', 'Summary'], dtype='object')"
      ]
     },
     "execution_count": 6,
     "metadata": {},
     "output_type": "execute_result"
    }
   ],
   "source": [
    "data.columns"
   ]
  },
  {
   "cell_type": "code",
   "execution_count": 7,
   "metadata": {},
   "outputs": [
    {
     "data": {
      "text/html": [
       "<div>\n",
       "<style scoped>\n",
       "    .dataframe tbody tr th:only-of-type {\n",
       "        vertical-align: middle;\n",
       "    }\n",
       "\n",
       "    .dataframe tbody tr th {\n",
       "        vertical-align: top;\n",
       "    }\n",
       "\n",
       "    .dataframe thead th {\n",
       "        text-align: right;\n",
       "    }\n",
       "</style>\n",
       "<table border=\"1\" class=\"dataframe\">\n",
       "  <thead>\n",
       "    <tr style=\"text-align: right;\">\n",
       "      <th></th>\n",
       "      <th>FRB #</th>\n",
       "      <th>Incident Number</th>\n",
       "      <th>Date / Time</th>\n",
       "      <th>Blurred Address</th>\n",
       "      <th>Longitude</th>\n",
       "      <th>Latitude</th>\n",
       "      <th>City</th>\n",
       "      <th>State</th>\n",
       "      <th>Rank</th>\n",
       "      <th>Officer Gender</th>\n",
       "      <th>Officer Race</th>\n",
       "      <th>Years of SPD Service</th>\n",
       "      <th>Officer Injured</th>\n",
       "      <th>Number of Rounds</th>\n",
       "      <th>Subject Gender</th>\n",
       "      <th>Subject Race</th>\n",
       "      <th>Subject DOB</th>\n",
       "      <th>Subject Age</th>\n",
       "      <th>Subject Weapon</th>\n",
       "      <th>Type of Weapon</th>\n",
       "      <th>Fatal</th>\n",
       "      <th>On-duty</th>\n",
       "      <th>Disposition</th>\n",
       "      <th>Officer Disciplined?</th>\n",
       "      <th>Summary</th>\n",
       "    </tr>\n",
       "  </thead>\n",
       "  <tbody>\n",
       "    <tr>\n",
       "      <th>0</th>\n",
       "      <td>FRB 05-01</td>\n",
       "      <td>20050000118193</td>\n",
       "      <td>03/21/2005 06:28:00 PM</td>\n",
       "      <td>65XX BLOCK OF RAINIER AV S</td>\n",
       "      <td>-122.273741</td>\n",
       "      <td>47.543815</td>\n",
       "      <td>Seattle</td>\n",
       "      <td>WA</td>\n",
       "      <td>Officer</td>\n",
       "      <td>Male</td>\n",
       "      <td>White</td>\n",
       "      <td>20</td>\n",
       "      <td>No</td>\n",
       "      <td>1</td>\n",
       "      <td>Male</td>\n",
       "      <td>Asian</td>\n",
       "      <td>1975-11-03T00:00:00.000</td>\n",
       "      <td>29</td>\n",
       "      <td>Yes</td>\n",
       "      <td>Knife</td>\n",
       "      <td>Yes</td>\n",
       "      <td>Yes</td>\n",
       "      <td>Missing</td>\n",
       "      <td>Missing</td>\n",
       "      <td>On March 21st, 2005, at approximately 5:20 P.M...</td>\n",
       "    </tr>\n",
       "    <tr>\n",
       "      <th>1</th>\n",
       "      <td>FRB 05-03</td>\n",
       "      <td>20050000174022</td>\n",
       "      <td>04/29/2005 03:30:00 AM</td>\n",
       "      <td>65XX BLOCK OF 1 AV S</td>\n",
       "      <td>-122.334513</td>\n",
       "      <td>47.544177</td>\n",
       "      <td>Seattle</td>\n",
       "      <td>WA</td>\n",
       "      <td>Officer</td>\n",
       "      <td>Male</td>\n",
       "      <td>White</td>\n",
       "      <td>5</td>\n",
       "      <td>No</td>\n",
       "      <td>2</td>\n",
       "      <td>Male</td>\n",
       "      <td>White</td>\n",
       "      <td>1969-08-02T00:00:00.000</td>\n",
       "      <td>36</td>\n",
       "      <td>No</td>\n",
       "      <td>NaN</td>\n",
       "      <td>Yes</td>\n",
       "      <td>Yes</td>\n",
       "      <td>Justified</td>\n",
       "      <td>No</td>\n",
       "      <td>On April 29th, 2005, at approximately 3:35 A.M...</td>\n",
       "    </tr>\n",
       "    <tr>\n",
       "      <th>2</th>\n",
       "      <td>FRB 05-04</td>\n",
       "      <td>20050000256303</td>\n",
       "      <td>06/20/2005 11:30:00 AM</td>\n",
       "      <td>7XX BLOCK OF STEWART ST</td>\n",
       "      <td>-122.335725</td>\n",
       "      <td>47.614620</td>\n",
       "      <td>Seattle</td>\n",
       "      <td>WA</td>\n",
       "      <td>Officer</td>\n",
       "      <td>Male</td>\n",
       "      <td>White</td>\n",
       "      <td>15</td>\n",
       "      <td>No</td>\n",
       "      <td>1</td>\n",
       "      <td>Male</td>\n",
       "      <td>White</td>\n",
       "      <td>1952-11-15T00:00:00.000</td>\n",
       "      <td>53</td>\n",
       "      <td>Yes</td>\n",
       "      <td>Grenade, backpack reported to have explosives</td>\n",
       "      <td>Yes</td>\n",
       "      <td>Yes</td>\n",
       "      <td>Justified</td>\n",
       "      <td>No</td>\n",
       "      <td>On June 20th, 2005, at approximately 11:30 A.M...</td>\n",
       "    </tr>\n",
       "    <tr>\n",
       "      <th>3</th>\n",
       "      <td>FRB 05-04</td>\n",
       "      <td>20050000256303</td>\n",
       "      <td>06/20/2005 12:30:00 PM</td>\n",
       "      <td>7XX BLOCK OF STEWART ST</td>\n",
       "      <td>-122.335725</td>\n",
       "      <td>47.614620</td>\n",
       "      <td>Seattle</td>\n",
       "      <td>WA</td>\n",
       "      <td>Officer</td>\n",
       "      <td>Male</td>\n",
       "      <td>White</td>\n",
       "      <td>18</td>\n",
       "      <td>No</td>\n",
       "      <td>1</td>\n",
       "      <td>Male</td>\n",
       "      <td>White</td>\n",
       "      <td>1952-11-15T00:00:00.000</td>\n",
       "      <td>53</td>\n",
       "      <td>Yes</td>\n",
       "      <td>Grenade, backpack reported to have explosives</td>\n",
       "      <td>Yes</td>\n",
       "      <td>Yes</td>\n",
       "      <td>Justified</td>\n",
       "      <td>No</td>\n",
       "      <td>On June 20th, 2005, at approximately 11:30 A.M...</td>\n",
       "    </tr>\n",
       "  </tbody>\n",
       "</table>\n",
       "</div>"
      ],
      "text/plain": [
       "       FRB #  Incident Number             Date / Time             Blurred Address   Longitude   Latitude     City State     Rank Officer Gender Officer Race Years of SPD Service Officer Injured Number of Rounds Subject Gender Subject Race              Subject DOB Subject Age Subject Weapon                                 Type of Weapon Fatal On-duty Disposition Officer Disciplined?                                            Summary\n",
       "0  FRB 05-01   20050000118193  03/21/2005 06:28:00 PM  65XX BLOCK OF RAINIER AV S -122.273741  47.543815  Seattle    WA  Officer           Male        White                   20              No                1           Male        Asian  1975-11-03T00:00:00.000          29            Yes                                          Knife   Yes     Yes     Missing              Missing  On March 21st, 2005, at approximately 5:20 P.M...\n",
       "1  FRB 05-03   20050000174022  04/29/2005 03:30:00 AM        65XX BLOCK OF 1 AV S -122.334513  47.544177  Seattle    WA  Officer           Male        White                    5              No                2           Male        White  1969-08-02T00:00:00.000          36             No                                            NaN   Yes     Yes   Justified                   No  On April 29th, 2005, at approximately 3:35 A.M...\n",
       "2  FRB 05-04   20050000256303  06/20/2005 11:30:00 AM     7XX BLOCK OF STEWART ST -122.335725  47.614620  Seattle    WA  Officer           Male        White                   15              No                1           Male        White  1952-11-15T00:00:00.000          53            Yes  Grenade, backpack reported to have explosives   Yes     Yes   Justified                   No  On June 20th, 2005, at approximately 11:30 A.M...\n",
       "3  FRB 05-04   20050000256303  06/20/2005 12:30:00 PM     7XX BLOCK OF STEWART ST -122.335725  47.614620  Seattle    WA  Officer           Male        White                   18              No                1           Male        White  1952-11-15T00:00:00.000          53            Yes  Grenade, backpack reported to have explosives   Yes     Yes   Justified                   No  On June 20th, 2005, at approximately 11:30 A.M..."
      ]
     },
     "execution_count": 7,
     "metadata": {},
     "output_type": "execute_result"
    }
   ],
   "source": [
    "data.head(4)"
   ]
  },
  {
   "cell_type": "markdown",
   "metadata": {},
   "source": [
    "### Preliminary EDA"
   ]
  },
  {
   "cell_type": "markdown",
   "metadata": {},
   "source": [
    "#### Drop Unnecessary Columns"
   ]
  },
  {
   "cell_type": "code",
   "execution_count": 17,
   "metadata": {},
   "outputs": [],
   "source": [
    "data.drop(['FRB #'], axis=1, inplace=True)"
   ]
  },
  {
   "cell_type": "markdown",
   "metadata": {},
   "source": [
    "#### Understanding data distribution"
   ]
  },
  {
   "cell_type": "code",
   "execution_count": 25,
   "metadata": {},
   "outputs": [
    {
     "data": {
      "text/plain": [
       "77"
      ]
     },
     "execution_count": 25,
     "metadata": {},
     "output_type": "execute_result"
    }
   ],
   "source": [
    "data['Incident Number'].nunique()"
   ]
  },
  {
   "cell_type": "code",
   "execution_count": 13,
   "metadata": {},
   "outputs": [
    {
     "data": {
      "text/plain": [
       "<matplotlib.axes._subplots.AxesSubplot at 0x120a87fd0>"
      ]
     },
     "execution_count": 13,
     "metadata": {},
     "output_type": "execute_result"
    },
    {
     "data": {
      "image/png": "[encoded data removed]",
      "text/plain": [
       "<Figure size 432x288 with 1 Axes>"
      ]
     },
     "metadata": {},
     "output_type": "display_data"
    }
   ],
   "source": [
    "data.City.value_counts().sort_values().plot(kind='barh')"
   ]
  },
  {
   "cell_type": "code",
   "execution_count": 14,
   "metadata": {},
   "outputs": [
    {
     "data": {
      "text/plain": [
       "<matplotlib.axes._subplots.AxesSubplot at 0x122d11d50>"
      ]
     },
     "execution_count": 14,
     "metadata": {},
     "output_type": "execute_result"
    },
    {
     "data": {
      "image/png": "[encoded data removed]",
      "text/plain": [
       "<Figure size 432x288 with 1 Axes>"
      ]
     },
     "metadata": {},
     "output_type": "display_data"
    }
   ],
   "source": [
    "data.State.value_counts().sort_values().plot(kind='barh')"
   ]
  },
  {
   "cell_type": "code",
   "execution_count": 15,
   "metadata": {},
   "outputs": [
    {
     "data": {
      "text/plain": [
       "<matplotlib.axes._subplots.AxesSubplot at 0x122d82bd0>"
      ]
     },
     "execution_count": 15,
     "metadata": {},
     "output_type": "execute_result"
    },
    {
     "data": {
      "image/png": "[encoded data removed]",
      "text/plain": [
       "<Figure size 432x288 with 1 Axes>"
      ]
     },
     "metadata": {},
     "output_type": "display_data"
    }
   ],
   "source": [
    "data.Rank.value_counts().sort_values().plot(kind='barh')"
   ]
  },
  {
   "cell_type": "code",
   "execution_count": 20,
   "metadata": {},
   "outputs": [
    {
     "data": {
      "text/plain": [
       "<matplotlib.axes._subplots.AxesSubplot at 0x122f49210>"
      ]
     },
     "execution_count": 20,
     "metadata": {},
     "output_type": "execute_result"
    },
    {
     "data": {
      "image/png": "[encoded data removed]",
      "text/plain": [
       "<Figure size 432x288 with 1 Axes>"
      ]
     },
     "metadata": {},
     "output_type": "display_data"
    }
   ],
   "source": [
    "data['Officer Gender'].value_counts().sort_values().plot(kind='barh')"
   ]
  },
  {
   "cell_type": "code",
   "execution_count": 21,
   "metadata": {},
   "outputs": [
    {
     "data": {
      "text/plain": [
       "<matplotlib.axes._subplots.AxesSubplot at 0x122f8d650>"
      ]
     },
     "execution_count": 21,
     "metadata": {},
     "output_type": "execute_result"
    },
    {
     "data": {
      "image/png": "[encoded data removed]",
      "text/plain": [
       "<Figure size 432x288 with 1 Axes>"
      ]
     },
     "metadata": {},
     "output_type": "display_data"
    }
   ],
   "source": [
    "data['Officer Race'].value_counts().sort_values().plot(kind='barh')"
   ]
  },
  {
   "cell_type": "code",
   "execution_count": 23,
   "metadata": {},
   "outputs": [
    {
     "data": {
      "text/plain": [
       "<matplotlib.axes._subplots.AxesSubplot at 0x123015210>"
      ]
     },
     "execution_count": 23,
     "metadata": {},
     "output_type": "execute_result"
    },
    {
     "data": {
      "image/png": "[encoded data removed]",
      "text/plain": [
       "<Figure size 864x576 with 1 Axes>"
      ]
     },
     "metadata": {},
     "output_type": "display_data"
    }
   ],
   "source": [
    "data['Years of SPD Service'].value_counts().sort_values().plot(kind='barh', figsize=(12,8))"
   ]
  },
  {
   "cell_type": "code",
   "execution_count": 29,
   "metadata": {},
   "outputs": [
    {
     "data": {
      "text/plain": [
       "<matplotlib.axes._subplots.AxesSubplot at 0x1232f84d0>"
      ]
     },
     "execution_count": 29,
     "metadata": {},
     "output_type": "execute_result"
    },
    {
     "data": {
      "image/png": "[encoded data removed]",
      "text/plain": [
       "<Figure size 432x288 with 1 Axes>"
      ]
     },
     "metadata": {},
     "output_type": "display_data"
    }
   ],
   "source": [
    "data['Officer Injured'].value_counts().sort_values().plot(kind='barh')"
   ]
  },
  {
   "cell_type": "code",
   "execution_count": 27,
   "metadata": {},
   "outputs": [
    {
     "data": {
      "text/plain": [
       "<matplotlib.axes._subplots.AxesSubplot at 0x1232852d0>"
      ]
     },
     "execution_count": 27,
     "metadata": {},
     "output_type": "execute_result"
    },
    {
     "data": {
      "image/png": "[encoded data removed]",
      "text/plain": [
       "<Figure size 864x576 with 1 Axes>"
      ]
     },
     "metadata": {},
     "output_type": "display_data"
    }
   ],
   "source": [
    "data['Number of Rounds'].value_counts().sort_values().plot(kind='barh', figsize=(12,8))"
   ]
  },
  {
   "cell_type": "code",
   "execution_count": 28,
   "metadata": {},
   "outputs": [
    {
     "data": {
      "text/plain": [
       "<matplotlib.axes._subplots.AxesSubplot at 0x123285590>"
      ]
     },
     "execution_count": 28,
     "metadata": {},
     "output_type": "execute_result"
    },
    {
     "data": {
      "image/png": "[encoded data removed]",
      "text/plain": [
       "<Figure size 432x288 with 1 Axes>"
      ]
     },
     "metadata": {},
     "output_type": "display_data"
    }
   ],
   "source": [
    "data['Subject Gender'].value_counts().sort_values().plot(kind='barh')"
   ]
  },
  {
   "cell_type": "code",
   "execution_count": 31,
   "metadata": {},
   "outputs": [
    {
     "data": {
      "text/plain": [
       "<matplotlib.axes._subplots.AxesSubplot at 0x12336a350>"
      ]
     },
     "execution_count": 31,
     "metadata": {},
     "output_type": "execute_result"
    },
    {
     "data": {
      "image/png": "[encoded data removed]",
      "text/plain": [
       "<Figure size 432x288 with 1 Axes>"
      ]
     },
     "metadata": {},
     "output_type": "display_data"
    }
   ],
   "source": [
    "data['Subject Race'].value_counts().sort_values().plot(kind='barh')"
   ]
  },
  {
   "cell_type": "code",
   "execution_count": 32,
   "metadata": {},
   "outputs": [
    {
     "data": {
      "text/plain": [
       "<matplotlib.axes._subplots.AxesSubplot at 0x1233d9450>"
      ]
     },
     "execution_count": 32,
     "metadata": {},
     "output_type": "execute_result"
    },
    {
     "data": {
      "image/png": "[encoded data removed]",
      "text/plain": [
       "<Figure size 864x576 with 1 Axes>"
      ]
     },
     "metadata": {},
     "output_type": "display_data"
    }
   ],
   "source": [
    "data['Subject Age'].value_counts().sort_values().plot(kind='barh', figsize=(12,8))\n",
    "# Not sure how there's people over the age of 100 on here"
   ]
  },
  {
   "cell_type": "code",
   "execution_count": 33,
   "metadata": {},
   "outputs": [
    {
     "data": {
      "text/plain": [
       "<matplotlib.axes._subplots.AxesSubplot at 0x1234eb550>"
      ]
     },
     "execution_count": 33,
     "metadata": {},
     "output_type": "execute_result"
    },
    {
     "data": {
      "image/png": "[encoded data removed]",
      "text/plain": [
       "<Figure size 432x288 with 1 Axes>"
      ]
     },
     "metadata": {},
     "output_type": "display_data"
    }
   ],
   "source": [
    "data['Subject Weapon'].value_counts().sort_values().plot(kind='barh')"
   ]
  },
  {
   "cell_type": "code",
   "execution_count": 35,
   "metadata": {},
   "outputs": [
    {
     "data": {
      "text/plain": [
       "<matplotlib.axes._subplots.AxesSubplot at 0x123760850>"
      ]
     },
     "execution_count": 35,
     "metadata": {},
     "output_type": "execute_result"
    },
    {
     "data": {
      "image/png": "[encoded data removed]",
      "text/plain": [
       "<Figure size 864x576 with 1 Axes>"
      ]
     },
     "metadata": {},
     "output_type": "display_data"
    }
   ],
   "source": [
    "data['Type of Weapon'].value_counts().sort_values().plot(kind='barh', figsize=(12,8))"
   ]
  },
  {
   "cell_type": "code",
   "execution_count": 36,
   "metadata": {},
   "outputs": [
    {
     "data": {
      "text/plain": [
       "<matplotlib.axes._subplots.AxesSubplot at 0x1237f2550>"
      ]
     },
     "execution_count": 36,
     "metadata": {},
     "output_type": "execute_result"
    },
    {
     "data": {
      "image/png": "[encoded data removed]",
      "text/plain": [
       "<Figure size 432x288 with 1 Axes>"
      ]
     },
     "metadata": {},
     "output_type": "display_data"
    }
   ],
   "source": [
    "data['Fatal'].value_counts().sort_values().plot(kind='barh')"
   ]
  },
  {
   "cell_type": "code",
   "execution_count": 37,
   "metadata": {},
   "outputs": [
    {
     "data": {
      "text/plain": [
       "<matplotlib.axes._subplots.AxesSubplot at 0x12384c090>"
      ]
     },
     "execution_count": 37,
     "metadata": {},
     "output_type": "execute_result"
    },
    {
     "data": {
      "image/png": "[encoded data removed]",
      "text/plain": [
       "<Figure size 432x288 with 1 Axes>"
      ]
     },
     "metadata": {},
     "output_type": "display_data"
    }
   ],
   "source": [
    "data['Disposition'].value_counts().sort_values().plot(kind='barh')"
   ]
  },
  {
   "cell_type": "code",
   "execution_count": 38,
   "metadata": {},
   "outputs": [
    {
     "data": {
      "text/plain": [
       "<matplotlib.axes._subplots.AxesSubplot at 0x12385a3d0>"
      ]
     },
     "execution_count": 38,
     "metadata": {},
     "output_type": "execute_result"
    },
    {
     "data": {
      "image/png": "[encoded data removed]",
      "text/plain": [
       "<Figure size 432x288 with 1 Axes>"
      ]
     },
     "metadata": {},
     "output_type": "display_data"
    }
   ],
   "source": [
    "data['Officer Disciplined?'].value_counts().sort_values().plot(kind='barh')"
   ]
  },
  {
   "cell_type": "code",
   "execution_count": 43,
   "metadata": {},
   "outputs": [
    {
     "name": "stdout",
     "output_type": "stream",
     "text": [
      "On March 21st, 2005, at approximately 5:20 P.M., Seattle Police Officers responded to the 6500 block of Rainier Avenue South to investigate a reported domestic disturbance. When officers arrived, they found the subject holding a 10 month old child hostage. Hostage Negotiation Team (HNT) and Special Weapons and Tactics (SWAT) were called to the scene. After approximately one hour, a SWAT/K9 Officer fired one round, striking the subject. The child was rescued, unharmed.\n",
      "----------------\n",
      "On April 29th, 2005, at approximately 3:35 A.M., an on duty Patrol Officer responded to assist in locating a possibly suicidal person, in the area of the 1st Avenue South Bridge. The subject was located in steep terrain and bushes after having jumped from the bridge. Officers approached the subject, and while attempting to take the subject into custody, the subject made attempts to grab both officers’ firearms. An officer fired two rounds, striking the subject. \n",
      "\n",
      "The subject was transported by medics to Harborview Medical Center where he died.  \n",
      "\n",
      "The subject was not armed by attempted to take or control the firearms of both officers.\n",
      "----------------\n",
      "On June 20th, 2005, at approximately 11:30 A.M., a male subject entered the lobby of the Federal Courthouse at 700 Stewart St. wearing a yellow backpack strapped to his chest and attempted to gain access to the secure area of the building. When courthouse security ordered the subject to stop he produced a fragmentation grenade. Approximately 20 minutes later Seattle Police Officers responded to the Federal Courthouse. Officers took up positions across the lobby from the subject and after verbal commands to put down the grenade and backpack, one SWAT Officer and one Patrol Officer each fired rounds. \n",
      "\n",
      "The subject died at the scene.\n",
      "----------------\n",
      "On June 20th, 2005, at approximately 11:30 A.M., a male subject entered the lobby of the Federal Courthouse at 700 Stewart St. wearing a yellow backpack strapped to his chest and attempted to gain access to the secure area of the building. When courthouse security ordered the subject to stop he produced a fragmentation grenade. Approximately 20 minutes later Seattle Police Officers responded to the Federal Courthouse. Officers took up positions across the lobby from the subject and after verbal commands to put down the grenade and backpack, one SWAT Officer and one Patrol Officer each fired rounds. \n",
      "\n",
      "The subject died at the scene.\n",
      "----------------\n",
      "On July 8th, 2005, at approximately 1:45 P.M., Seattle Police Officers responded to the 1600 block of East Union St. in response to a report of a burglary, in-progress. The person reporting the crime stated they arrived to find a black male, wearing a dark green sweatshirt and black pants, burglarizing her home and that she was assaulted by the subject as he fled, on foot. A uniformed Patrol Officer, driving a marked police vehicle, located a subject matching the description and attempted to detain him. The subject assaulted the officer and a physical altercation ensued. After striking the subject and deploying pepper spray, the subject retrieved a screwdriver from his waistline and threw it at the officer. At approximately the same time, the officer fired one round, striking the subject in the left arm.    \n",
      "\n",
      "The subject was treated for a gunshot wound at Harborview Medical Center.   The subject was charged with Burglary and Assault.\n",
      "----------------\n",
      "On September 10th, 2005, at approximately 3:45 A.M., two Seattle Police Officers were in the area of Harborview Medical Center at 9th Avenue and East Jefferson St., investigating a ‘domestic disturbance.’ And unrelated subject approached one of the officers and requested a ride. The officer stated he was unable to give the subject a ride and suggested she call a cab. The subject proceeded to steal a marked Seattle Police patrol car and flee the scene. The Patrol Officer, attempting to stop the subject, fired three rounds into the driver’s side while running with the vehicle, missing the driver. The subject continued to elude police and was later apprehended at 14th Avenue South and South Massachusetts St.  \n",
      "\n",
      "The subject was not injured.  The subject was charged with Auto Theft and Eluding.\n",
      "----------------\n",
      "On September 23rd, 2005, at approximately 2:00 A.M., two Seattle Police Officers were in the area of 1st and Blanchard St. to monitor bar closing. The officers observed the subject, driving a motorcycle, fire a handgun into a group of people at the intersection of Western Avenue and Blanchard St. The subject continued eastbound toward the officers. The officer fired a total of seven rounds, striking the subject in the left leg as he continued past them toward 1st Avenue. At the intersection of 1st Avenue and Blanchard St. the subject collided with a vehicle and was taken into custody by officers. \n",
      "\n",
      "The subject was transported to Harborview Medical Center and later charged with Assault and Drive-By Shooting.\n",
      "----------------\n",
      "On September 23rd, 2005, at approximately 2:00 A.M., two Seattle Police Officers were in the area of 1st and Blanchard St. to monitor bar closing. The officers observed the subject, driving a motorcycle, fire a handgun into a group of people at the intersection of Western Avenue and Blanchard St. The subject continued eastbound toward the officers. The officer fired a total of seven rounds, striking the subject in the left leg as he continued past them toward 1st Avenue. At the intersection of 1st Avenue and Blanchard St. the subject collided with a vehicle and was taken into custody by officers. \n",
      "\n",
      "The subject was transported to Harborview Medical Center and later charged with Assault and Drive-By Shooting.\n",
      "----------------\n",
      "On November 22nd, 2005, at approximately 12:45 P.M., two on duty Seattle Police Officers were in the area of 42nd Ave Southwest and Fauntleroy Way Southwest, in a marked Seattle Police patrol vehicle. The officers were approached by an employee of the Washington Federal Savings Bank (6428 California Avenue Southwest), who stated they had just been the subject of a robbery.  The employee pointed to a subject walking eastbound from their location, wearing a black hooded sweatshirt and black pants, and identified him as the person who had committed the robbery. One of the officers approached the subject from behind, identified himself as ‘Police’ and ordered the subject, several times, to ‘get on the ground.’ The subject had his hood up and his hands in the pockets of his sweatshirt and did not respond to commands from the officer. Shortly after the officer made initial contact with the subject, a vehicle, later identified as the getaway car, pulled up and the subject turned to face the officer. The officer fired three rounds, striking the subject in the left leg. \n",
      "\n",
      "The subject was transported to Harborview Medical Center and later booked into the King County Jail for investigation of Bank Robbery.\n",
      "----------------\n",
      "On December 15, 2005, at approximately 1:44 A.M., a uniformed patrol officer, driving a marked Seattle Police Department vehicle, in the vicinity of 9th Ave. and Marion., when the officer heard gunfire.  The officer observed a small group of individuals in the intersection with two subjects firing handguns.  The officer observed a third subject firing a ‘machine pistol’ at the group of subjects in the intersection.   The officer stopped his vehicle and addressed the subject firing the ‘machine pistol’ at which point the subject turned and pointed the pistol at the officer.  The officer fired his weapon, striking the subject once in the side of the chest.  \n",
      "\n",
      "The sujbect was injured and transported to Harborview Medical Center.   The subject was later booked into the King County Jail and charged with Assault and Violation of the Uniform Firearms Act.\n",
      "----------------\n",
      "On January 4, 2006, at approximately 4:30 A.M., an on duty Sergeant in a marked Seattle Police Department vehicle responded as backup to an officer on the scene of a DV disturbance call at 637 Third Ave. West.  The subject was in a state of undress, armed with a jagged board, yelling, and walking down the middle of street causing damage with the board, including damage to the patrol car of the first officer to arrive on scene.   Upon arrival, the Sergeant contacted the subject, who approached the Sergeant yelling “Kill me”, and “You’ll have to shoot me”.  The Sergeant ordered the subject to drop the board, and go to the ground.  The subject refused and the Sergeant shot one round into the asphalt 10 to 12 feet in front of the subject.   The subject immediately stopped and turned away, allowing the Sergeant and other officers to place the subject in custody.\n",
      "\n",
      "The subject was treated by medics at the scene and booked into the King County Jail.  \n",
      "\n",
      "The subject was charged with Assault and DV Assault.\n",
      "----------------\n",
      "On February 27th, 2006, at approximately 1:10 A.M., two Seattle Police Patrol Officers riding department issued bicycles, observed a vehicle in a parking lot in the 200 block of 6th Avenue North. The dome light was on and the windows were fogged up. The vehicle was occupied by two subjects the officers believed to be involved in a drug transaction. As the officers approached the vehicle, the officer on the passenger side observed money being exchanged. The officer drew his firearm, identified himself as Police and ordered the subjects to freeze and show their hands. The driver shifted the vehicle into reverse and began to pull out from the parking space. The other officer was approaching from behind the vehicle when the driver shifted into reverse. The vehicle backed into the officers’ bicycle but the officer escaped uninjured. The officer who was on the passenger side had transitioned to the front of the vehicle when the driver then began to accelerate forward. The officer was between the vehicle and a concrete wall just forward of the driver’s side. The officer fired two rounds, missing the driver and striking the car. The vehicle continued out of the parking lot and onto 6th Avenue North. At the intersection of 6th Avenue North and Aurora Avenue North, the driver lost control and impacted a barrier. Both subjects fled on foot but were later taken into custody by officers. The driver was charged with assault.    \n",
      "\n",
      "The subject was not injured.  The subject was arrested and charged with Assault.\n",
      "----------------\n",
      "On April 23rd, 2006, at 9:50 A.M., multiple Seattle Police Officers responded to reports of shots fired in the 9700 block of Wallingford Avenue North.  Upon arrival, an officer was directed to a subject standing in the middle of Wallingford Avenue North, holding a handgun. The subject began firing on the officer. The officer put his vehicle in reverse to escape and retreated to a safe distance and took up position, with his patrol rifle, behind the trunk of his car. The subject continued to fire and the officer returned fire with one round from his rifle, missing the subject. The subject walked out of sight and was found in a driveway, deceased of an apparent self-inflicted gunshot wound.\n",
      "----------------\n",
      "On April 25th, 2006, at approximately 8:20 P.M., uniformed Seattle Police Officers responded to the area of Broadway Avenue East and East John St. for a report of a man with a gun. Earlier, the subject had been involved in a series of disturbances and fights on Broadway Avenue East in which he threatened to shoot people. Officers approached the subject at a bus stop and gave orders for the subject to keep his hands visible and at his sides. The officers were aware, from dispatched information and reports from bystanders, that the subject was armed with a pistol located in his waistband. The subject reached behind himself, with both hands and refused to comply with commands show them his hands. After taking several steps backward, the subject produced a revolver from his waistband and pointed it at officers. Both officers fired several rounds striking the subject in the legs and the chest. \n",
      "\n",
      "The subject was pronounced dead at the scene.\n",
      "----------------\n",
      "On April 25th, 2006, at approximately 8:20 P.M., uniformed Seattle Police Officers responded to the area of Broadway Avenue East and East John St. for a report of a man with a gun. Earlier, the subject had been involved in a series of disturbances and fights on Broadway Avenue East in which he threatened to shoot people. Officers approached the subject at a bus stop and gave orders for the subject to keep his hands visible and at his sides. The officers were aware, from dispatched information and reports from bystanders, that the subject was armed with a pistol located in his waistband. The subject reached behind himself, with both hands and refused to comply with commands show them his hands. After taking several steps backward, the subject produced a revolver from his waistband and pointed it at officers. Both officers fired several rounds striking the subject in the legs and the chest. \n",
      "\n",
      "The subject was pronounced dead at the scene.\n",
      "----------------\n"
     ]
    }
   ],
   "source": [
    "for row in data[:15].itertuples():\n",
    "    print(row.Summary.strip().rstrip() + \"\\n----------------\")"
   ]
  },
  {
   "cell_type": "markdown",
   "metadata": {},
   "source": [
    "### Things To Analyze\n",
    "1. Whether certain races of officers target certain races of subjects\n",
    "2. What type of crime the subject is charged with\n",
    "3. When in the day do crimes happen the most?\n",
    "4. If we can create bounding boxes around certain locations, what kind of crimes are likely to happen in that area?"
   ]
  },
  {
   "cell_type": "markdown",
   "metadata": {},
   "source": [
    "### Modeling Ideas\n",
    "1. Should an officer be disciplined for the way they handled a certain incident?"
   ]
  },
  {
   "cell_type": "code",
   "execution_count": 54,
   "metadata": {},
   "outputs": [
    {
     "data": {
      "text/html": [
       "<div>\n",
       "<style scoped>\n",
       "    .dataframe tbody tr th:only-of-type {\n",
       "        vertical-align: middle;\n",
       "    }\n",
       "\n",
       "    .dataframe tbody tr th {\n",
       "        vertical-align: top;\n",
       "    }\n",
       "\n",
       "    .dataframe thead th {\n",
       "        text-align: right;\n",
       "    }\n",
       "</style>\n",
       "<table border=\"1\" class=\"dataframe\">\n",
       "  <thead>\n",
       "    <tr style=\"text-align: right;\">\n",
       "      <th></th>\n",
       "      <th>Incident Number</th>\n",
       "      <th>Date / Time</th>\n",
       "      <th>Blurred Address</th>\n",
       "      <th>Longitude</th>\n",
       "      <th>Latitude</th>\n",
       "      <th>City</th>\n",
       "      <th>State</th>\n",
       "      <th>Rank</th>\n",
       "      <th>Officer Gender</th>\n",
       "      <th>Officer Race</th>\n",
       "      <th>Years of SPD Service</th>\n",
       "      <th>Officer Injured</th>\n",
       "      <th>Number of Rounds</th>\n",
       "      <th>Subject Gender</th>\n",
       "      <th>Subject Race</th>\n",
       "      <th>Subject DOB</th>\n",
       "      <th>Subject Age</th>\n",
       "      <th>Subject Weapon</th>\n",
       "      <th>Type of Weapon</th>\n",
       "      <th>Fatal</th>\n",
       "      <th>On-duty</th>\n",
       "      <th>Disposition</th>\n",
       "      <th>Officer Disciplined?</th>\n",
       "      <th>Summary</th>\n",
       "    </tr>\n",
       "  </thead>\n",
       "  <tbody>\n",
       "    <tr>\n",
       "      <th>85</th>\n",
       "      <td>20140000431136</td>\n",
       "      <td>12/31/2014 09:55:00 PM</td>\n",
       "      <td>42XX BLOCK OF S EDDY ST</td>\n",
       "      <td>-122.279488</td>\n",
       "      <td>47.54511</td>\n",
       "      <td>Seattle</td>\n",
       "      <td>WA</td>\n",
       "      <td>Officer</td>\n",
       "      <td>Male</td>\n",
       "      <td>White</td>\n",
       "      <td>&lt;1</td>\n",
       "      <td>No</td>\n",
       "      <td>3</td>\n",
       "      <td>Male</td>\n",
       "      <td>Black or African American</td>\n",
       "      <td>1984-01-02T00:00:00.000</td>\n",
       "      <td>31</td>\n",
       "      <td>No</td>\n",
       "      <td>NaN</td>\n",
       "      <td>No</td>\n",
       "      <td>Yes</td>\n",
       "      <td>Out of Policy</td>\n",
       "      <td>No</td>\n",
       "      <td>On December 31st, 2014, at approximately 10:40...</td>\n",
       "    </tr>\n",
       "    <tr>\n",
       "      <th>86</th>\n",
       "      <td>20140000431136</td>\n",
       "      <td>12/31/2014 09:55:00 PM</td>\n",
       "      <td>42XX BLOCK OF S EDDY ST</td>\n",
       "      <td>-122.279488</td>\n",
       "      <td>47.54511</td>\n",
       "      <td>Seattle</td>\n",
       "      <td>WA</td>\n",
       "      <td>Officer</td>\n",
       "      <td>Male</td>\n",
       "      <td>AI/AN</td>\n",
       "      <td>8</td>\n",
       "      <td>No</td>\n",
       "      <td>5</td>\n",
       "      <td>Male</td>\n",
       "      <td>Black or African American</td>\n",
       "      <td>1984-01-02T00:00:00.000</td>\n",
       "      <td>31</td>\n",
       "      <td>No</td>\n",
       "      <td>NaN</td>\n",
       "      <td>No</td>\n",
       "      <td>Yes</td>\n",
       "      <td>Out of Policy</td>\n",
       "      <td>No</td>\n",
       "      <td>On December 31st, 2014, at approximately 10:40...</td>\n",
       "    </tr>\n",
       "    <tr>\n",
       "      <th>87</th>\n",
       "      <td>20140000431136</td>\n",
       "      <td>12/31/2014 09:55:00 PM</td>\n",
       "      <td>42XX BLOCK OF S EDDY ST</td>\n",
       "      <td>-122.279488</td>\n",
       "      <td>47.54511</td>\n",
       "      <td>Seattle</td>\n",
       "      <td>WA</td>\n",
       "      <td>Officer</td>\n",
       "      <td>Female</td>\n",
       "      <td>White</td>\n",
       "      <td>7</td>\n",
       "      <td>No</td>\n",
       "      <td>2</td>\n",
       "      <td>Male</td>\n",
       "      <td>Black or African American</td>\n",
       "      <td>1984-01-02T00:00:00.000</td>\n",
       "      <td>31</td>\n",
       "      <td>No</td>\n",
       "      <td>NaN</td>\n",
       "      <td>No</td>\n",
       "      <td>Yes</td>\n",
       "      <td>Out of Policy</td>\n",
       "      <td>No</td>\n",
       "      <td>On December 31st, 2014, at approximately 10:40...</td>\n",
       "    </tr>\n",
       "    <tr>\n",
       "      <th>88</th>\n",
       "      <td>20140000431136</td>\n",
       "      <td>12/31/2014 09:55:00 PM</td>\n",
       "      <td>42XX BLOCK OF S EDDY ST</td>\n",
       "      <td>-122.279488</td>\n",
       "      <td>47.54511</td>\n",
       "      <td>Seattle</td>\n",
       "      <td>WA</td>\n",
       "      <td>POLICE OFFICER</td>\n",
       "      <td>Male</td>\n",
       "      <td>AI/AN</td>\n",
       "      <td>7</td>\n",
       "      <td>No</td>\n",
       "      <td>5</td>\n",
       "      <td>Female</td>\n",
       "      <td>Black or African American</td>\n",
       "      <td>1998-10-16T00:00:00.000</td>\n",
       "      <td>16</td>\n",
       "      <td>No</td>\n",
       "      <td>NaN</td>\n",
       "      <td>No</td>\n",
       "      <td>Yes</td>\n",
       "      <td>Out of Policy</td>\n",
       "      <td>No</td>\n",
       "      <td>On December 31st, 2014, at approximately 10:40...</td>\n",
       "    </tr>\n",
       "    <tr>\n",
       "      <th>89</th>\n",
       "      <td>20140000431136</td>\n",
       "      <td>12/31/2014 09:55:00 PM</td>\n",
       "      <td>42XX BLOCK OF S EDDY ST</td>\n",
       "      <td>-122.279488</td>\n",
       "      <td>47.54511</td>\n",
       "      <td>Seattle</td>\n",
       "      <td>WA</td>\n",
       "      <td>POLICE OFFICER</td>\n",
       "      <td>Female</td>\n",
       "      <td>White</td>\n",
       "      <td>7</td>\n",
       "      <td>No</td>\n",
       "      <td>2</td>\n",
       "      <td>Female</td>\n",
       "      <td>Black or African American</td>\n",
       "      <td>1998-10-16T00:00:00.000</td>\n",
       "      <td>16</td>\n",
       "      <td>No</td>\n",
       "      <td>NaN</td>\n",
       "      <td>No</td>\n",
       "      <td>Yes</td>\n",
       "      <td>Out of Policy</td>\n",
       "      <td>No</td>\n",
       "      <td>On December 31st, 2014, at approximately 10:40...</td>\n",
       "    </tr>\n",
       "    <tr>\n",
       "      <th>90</th>\n",
       "      <td>20140000431136</td>\n",
       "      <td>12/31/2014 09:55:00 PM</td>\n",
       "      <td>42XX BLOCK OF S EDDY ST</td>\n",
       "      <td>-122.279488</td>\n",
       "      <td>47.54511</td>\n",
       "      <td>Seattle</td>\n",
       "      <td>WA</td>\n",
       "      <td>POLICE OFFICER</td>\n",
       "      <td>Male</td>\n",
       "      <td>White</td>\n",
       "      <td>5</td>\n",
       "      <td>No</td>\n",
       "      <td>2</td>\n",
       "      <td>Female</td>\n",
       "      <td>Black or African American</td>\n",
       "      <td>1991-12-21T00:00:00.000</td>\n",
       "      <td>23</td>\n",
       "      <td>No</td>\n",
       "      <td>NaN</td>\n",
       "      <td>No</td>\n",
       "      <td>Yes</td>\n",
       "      <td>Out of Policy</td>\n",
       "      <td>No</td>\n",
       "      <td>On December 31st, 2014, at approximately 10:40...</td>\n",
       "    </tr>\n",
       "    <tr>\n",
       "      <th>91</th>\n",
       "      <td>20140000431136</td>\n",
       "      <td>12/31/2014 09:55:00 PM</td>\n",
       "      <td>42XX BLOCK OF S EDDY ST</td>\n",
       "      <td>-122.279488</td>\n",
       "      <td>47.54511</td>\n",
       "      <td>Seattle</td>\n",
       "      <td>WA</td>\n",
       "      <td>POLICE OFFICER</td>\n",
       "      <td>Female</td>\n",
       "      <td>White</td>\n",
       "      <td>7</td>\n",
       "      <td>No</td>\n",
       "      <td>2</td>\n",
       "      <td>Male</td>\n",
       "      <td>Black or African American</td>\n",
       "      <td>NaN</td>\n",
       "      <td>NaN</td>\n",
       "      <td>No</td>\n",
       "      <td>NaN</td>\n",
       "      <td>No</td>\n",
       "      <td>Yes</td>\n",
       "      <td>Out of Policy</td>\n",
       "      <td>No</td>\n",
       "      <td>On December 31st, 2014, at approximately 10:40...</td>\n",
       "    </tr>\n",
       "    <tr>\n",
       "      <th>92</th>\n",
       "      <td>20140000431136</td>\n",
       "      <td>12/31/2014 09:55:00 PM</td>\n",
       "      <td>42XX BLOCK OF S EDDY ST</td>\n",
       "      <td>-122.279488</td>\n",
       "      <td>47.54511</td>\n",
       "      <td>Seattle</td>\n",
       "      <td>WA</td>\n",
       "      <td>POLICE OFFICER</td>\n",
       "      <td>Female</td>\n",
       "      <td>White</td>\n",
       "      <td>7</td>\n",
       "      <td>No</td>\n",
       "      <td>2</td>\n",
       "      <td>Female</td>\n",
       "      <td>Black or African American</td>\n",
       "      <td>1991-12-21T00:00:00.000</td>\n",
       "      <td>23</td>\n",
       "      <td>No</td>\n",
       "      <td>NaN</td>\n",
       "      <td>No</td>\n",
       "      <td>Yes</td>\n",
       "      <td>Out of Policy</td>\n",
       "      <td>No</td>\n",
       "      <td>On December 31st, 2014, at approximately 10:40...</td>\n",
       "    </tr>\n",
       "    <tr>\n",
       "      <th>93</th>\n",
       "      <td>20140000431136</td>\n",
       "      <td>12/31/2014 09:55:00 PM</td>\n",
       "      <td>42XX BLOCK OF S EDDY ST</td>\n",
       "      <td>-122.279488</td>\n",
       "      <td>47.54511</td>\n",
       "      <td>Seattle</td>\n",
       "      <td>WA</td>\n",
       "      <td>POLICE OFFICER</td>\n",
       "      <td>Male</td>\n",
       "      <td>AI/AN</td>\n",
       "      <td>7</td>\n",
       "      <td>No</td>\n",
       "      <td>5</td>\n",
       "      <td>Male</td>\n",
       "      <td>Black or African American</td>\n",
       "      <td>NaN</td>\n",
       "      <td>NaN</td>\n",
       "      <td>No</td>\n",
       "      <td>NaN</td>\n",
       "      <td>No</td>\n",
       "      <td>Yes</td>\n",
       "      <td>Out of Policy</td>\n",
       "      <td>No</td>\n",
       "      <td>On December 31st, 2014, at approximately 10:40...</td>\n",
       "    </tr>\n",
       "    <tr>\n",
       "      <th>94</th>\n",
       "      <td>20140000431136</td>\n",
       "      <td>12/31/2014 09:55:00 PM</td>\n",
       "      <td>42XX BLOCK OF S EDDY ST</td>\n",
       "      <td>-122.279488</td>\n",
       "      <td>47.54511</td>\n",
       "      <td>Seattle</td>\n",
       "      <td>WA</td>\n",
       "      <td>POLICE OFFICER</td>\n",
       "      <td>Male</td>\n",
       "      <td>AI/AN</td>\n",
       "      <td>7</td>\n",
       "      <td>No</td>\n",
       "      <td>5</td>\n",
       "      <td>Female</td>\n",
       "      <td>Black or African American</td>\n",
       "      <td>1991-12-21T00:00:00.000</td>\n",
       "      <td>23</td>\n",
       "      <td>No</td>\n",
       "      <td>NaN</td>\n",
       "      <td>No</td>\n",
       "      <td>Yes</td>\n",
       "      <td>Out of Policy</td>\n",
       "      <td>No</td>\n",
       "      <td>On December 31st, 2014, at approximately 10:40...</td>\n",
       "    </tr>\n",
       "    <tr>\n",
       "      <th>95</th>\n",
       "      <td>20140000431136</td>\n",
       "      <td>12/31/2014 09:55:00 PM</td>\n",
       "      <td>42XX BLOCK OF S EDDY ST</td>\n",
       "      <td>-122.279488</td>\n",
       "      <td>47.54511</td>\n",
       "      <td>Seattle</td>\n",
       "      <td>WA</td>\n",
       "      <td>POLICE OFFICER</td>\n",
       "      <td>Male</td>\n",
       "      <td>White</td>\n",
       "      <td>5</td>\n",
       "      <td>No</td>\n",
       "      <td>2</td>\n",
       "      <td>Male</td>\n",
       "      <td>Black or African American</td>\n",
       "      <td>NaN</td>\n",
       "      <td>114</td>\n",
       "      <td>No</td>\n",
       "      <td>NaN</td>\n",
       "      <td>No</td>\n",
       "      <td>Yes</td>\n",
       "      <td>Out of Policy</td>\n",
       "      <td>No</td>\n",
       "      <td>On December 31st, 2014, at approximately 10:40...</td>\n",
       "    </tr>\n",
       "    <tr>\n",
       "      <th>96</th>\n",
       "      <td>20140000431136</td>\n",
       "      <td>12/31/2014 09:55:00 PM</td>\n",
       "      <td>42XX BLOCK OF S EDDY ST</td>\n",
       "      <td>-122.279488</td>\n",
       "      <td>47.54511</td>\n",
       "      <td>Seattle</td>\n",
       "      <td>WA</td>\n",
       "      <td>POLICE OFFICER</td>\n",
       "      <td>Male</td>\n",
       "      <td>White</td>\n",
       "      <td>5</td>\n",
       "      <td>No</td>\n",
       "      <td>2</td>\n",
       "      <td>Male</td>\n",
       "      <td>Black or African American</td>\n",
       "      <td>1994-11-17T00:00:00.000</td>\n",
       "      <td>20</td>\n",
       "      <td>No</td>\n",
       "      <td>NaN</td>\n",
       "      <td>No</td>\n",
       "      <td>Yes</td>\n",
       "      <td>Out of Policy</td>\n",
       "      <td>No</td>\n",
       "      <td>On December 31st, 2014, at approximately 10:40...</td>\n",
       "    </tr>\n",
       "    <tr>\n",
       "      <th>97</th>\n",
       "      <td>20140000431136</td>\n",
       "      <td>12/31/2014 09:55:00 PM</td>\n",
       "      <td>42XX BLOCK OF S EDDY ST</td>\n",
       "      <td>-122.279488</td>\n",
       "      <td>47.54511</td>\n",
       "      <td>Seattle</td>\n",
       "      <td>WA</td>\n",
       "      <td>POLICE OFFICER</td>\n",
       "      <td>Male</td>\n",
       "      <td>AI/AN</td>\n",
       "      <td>7</td>\n",
       "      <td>No</td>\n",
       "      <td>5</td>\n",
       "      <td>Male</td>\n",
       "      <td>Black or African American</td>\n",
       "      <td>1994-11-17T00:00:00.000</td>\n",
       "      <td>20</td>\n",
       "      <td>No</td>\n",
       "      <td>NaN</td>\n",
       "      <td>No</td>\n",
       "      <td>Yes</td>\n",
       "      <td>Out of Policy</td>\n",
       "      <td>No</td>\n",
       "      <td>On December 31st, 2014, at approximately 10:40...</td>\n",
       "    </tr>\n",
       "    <tr>\n",
       "      <th>98</th>\n",
       "      <td>20140000431136</td>\n",
       "      <td>12/31/2014 09:55:00 PM</td>\n",
       "      <td>42XX BLOCK OF S EDDY ST</td>\n",
       "      <td>-122.279488</td>\n",
       "      <td>47.54511</td>\n",
       "      <td>Seattle</td>\n",
       "      <td>WA</td>\n",
       "      <td>POLICE OFFICER</td>\n",
       "      <td>Female</td>\n",
       "      <td>White</td>\n",
       "      <td>7</td>\n",
       "      <td>No</td>\n",
       "      <td>2</td>\n",
       "      <td>Male</td>\n",
       "      <td>Black or African American</td>\n",
       "      <td>1994-11-17T00:00:00.000</td>\n",
       "      <td>20</td>\n",
       "      <td>No</td>\n",
       "      <td>NaN</td>\n",
       "      <td>No</td>\n",
       "      <td>Yes</td>\n",
       "      <td>Out of Policy</td>\n",
       "      <td>No</td>\n",
       "      <td>On December 31st, 2014, at approximately 10:40...</td>\n",
       "    </tr>\n",
       "    <tr>\n",
       "      <th>99</th>\n",
       "      <td>20140000431136</td>\n",
       "      <td>12/31/2014 09:55:00 PM</td>\n",
       "      <td>42XX BLOCK OF S EDDY ST</td>\n",
       "      <td>-122.279488</td>\n",
       "      <td>47.54511</td>\n",
       "      <td>Seattle</td>\n",
       "      <td>WA</td>\n",
       "      <td>POLICE OFFICER</td>\n",
       "      <td>Male</td>\n",
       "      <td>White</td>\n",
       "      <td>5</td>\n",
       "      <td>No</td>\n",
       "      <td>2</td>\n",
       "      <td>Female</td>\n",
       "      <td>Black or African American</td>\n",
       "      <td>1998-10-16T00:00:00.000</td>\n",
       "      <td>16</td>\n",
       "      <td>No</td>\n",
       "      <td>NaN</td>\n",
       "      <td>No</td>\n",
       "      <td>Yes</td>\n",
       "      <td>Out of Policy</td>\n",
       "      <td>No</td>\n",
       "      <td>On December 31st, 2014, at approximately 10:40...</td>\n",
       "    </tr>\n",
       "  </tbody>\n",
       "</table>\n",
       "</div>"
      ],
      "text/plain": [
       "    Incident Number             Date / Time          Blurred Address   Longitude  Latitude     City State            Rank Officer Gender Officer Race Years of SPD Service Officer Injured Number of Rounds Subject Gender               Subject Race              Subject DOB Subject Age Subject Weapon Type of Weapon Fatal On-duty    Disposition Officer Disciplined?                                            Summary\n",
       "85   20140000431136  12/31/2014 09:55:00 PM  42XX BLOCK OF S EDDY ST -122.279488  47.54511  Seattle    WA         Officer           Male        White                   <1              No                3           Male  Black or African American  1984-01-02T00:00:00.000          31             No            NaN    No     Yes  Out of Policy                   No  On December 31st, 2014, at approximately 10:40...\n",
       "86   20140000431136  12/31/2014 09:55:00 PM  42XX BLOCK OF S EDDY ST -122.279488  47.54511  Seattle    WA         Officer           Male        AI/AN                    8              No                5           Male  Black or African American  1984-01-02T00:00:00.000          31             No            NaN    No     Yes  Out of Policy                   No  On December 31st, 2014, at approximately 10:40...\n",
       "87   20140000431136  12/31/2014 09:55:00 PM  42XX BLOCK OF S EDDY ST -122.279488  47.54511  Seattle    WA         Officer         Female        White                    7              No                2           Male  Black or African American  1984-01-02T00:00:00.000          31             No            NaN    No     Yes  Out of Policy                   No  On December 31st, 2014, at approximately 10:40...\n",
       "88   20140000431136  12/31/2014 09:55:00 PM  42XX BLOCK OF S EDDY ST -122.279488  47.54511  Seattle    WA  POLICE OFFICER           Male        AI/AN                    7              No                5         Female  Black or African American  1998-10-16T00:00:00.000          16             No            NaN    No     Yes  Out of Policy                   No  On December 31st, 2014, at approximately 10:40...\n",
       "89   20140000431136  12/31/2014 09:55:00 PM  42XX BLOCK OF S EDDY ST -122.279488  47.54511  Seattle    WA  POLICE OFFICER         Female        White                    7              No                2         Female  Black or African American  1998-10-16T00:00:00.000          16             No            NaN    No     Yes  Out of Policy                   No  On December 31st, 2014, at approximately 10:40...\n",
       "90   20140000431136  12/31/2014 09:55:00 PM  42XX BLOCK OF S EDDY ST -122.279488  47.54511  Seattle    WA  POLICE OFFICER           Male        White                    5              No                2         Female  Black or African American  1991-12-21T00:00:00.000          23             No            NaN    No     Yes  Out of Policy                   No  On December 31st, 2014, at approximately 10:40...\n",
       "91   20140000431136  12/31/2014 09:55:00 PM  42XX BLOCK OF S EDDY ST -122.279488  47.54511  Seattle    WA  POLICE OFFICER         Female        White                    7              No                2           Male  Black or African American                      NaN         NaN             No            NaN    No     Yes  Out of Policy                   No  On December 31st, 2014, at approximately 10:40...\n",
       "92   20140000431136  12/31/2014 09:55:00 PM  42XX BLOCK OF S EDDY ST -122.279488  47.54511  Seattle    WA  POLICE OFFICER         Female        White                    7              No                2         Female  Black or African American  1991-12-21T00:00:00.000          23             No            NaN    No     Yes  Out of Policy                   No  On December 31st, 2014, at approximately 10:40...\n",
       "93   20140000431136  12/31/2014 09:55:00 PM  42XX BLOCK OF S EDDY ST -122.279488  47.54511  Seattle    WA  POLICE OFFICER           Male        AI/AN                    7              No                5           Male  Black or African American                      NaN         NaN             No            NaN    No     Yes  Out of Policy                   No  On December 31st, 2014, at approximately 10:40...\n",
       "94   20140000431136  12/31/2014 09:55:00 PM  42XX BLOCK OF S EDDY ST -122.279488  47.54511  Seattle    WA  POLICE OFFICER           Male        AI/AN                    7              No                5         Female  Black or African American  1991-12-21T00:00:00.000          23             No            NaN    No     Yes  Out of Policy                   No  On December 31st, 2014, at approximately 10:40...\n",
       "95   20140000431136  12/31/2014 09:55:00 PM  42XX BLOCK OF S EDDY ST -122.279488  47.54511  Seattle    WA  POLICE OFFICER           Male        White                    5              No                2           Male  Black or African American                      NaN         114             No            NaN    No     Yes  Out of Policy                   No  On December 31st, 2014, at approximately 10:40...\n",
       "96   20140000431136  12/31/2014 09:55:00 PM  42XX BLOCK OF S EDDY ST -122.279488  47.54511  Seattle    WA  POLICE OFFICER           Male        White                    5              No                2           Male  Black or African American  1994-11-17T00:00:00.000          20             No            NaN    No     Yes  Out of Policy                   No  On December 31st, 2014, at approximately 10:40...\n",
       "97   20140000431136  12/31/2014 09:55:00 PM  42XX BLOCK OF S EDDY ST -122.279488  47.54511  Seattle    WA  POLICE OFFICER           Male        AI/AN                    7              No                5           Male  Black or African American  1994-11-17T00:00:00.000          20             No            NaN    No     Yes  Out of Policy                   No  On December 31st, 2014, at approximately 10:40...\n",
       "98   20140000431136  12/31/2014 09:55:00 PM  42XX BLOCK OF S EDDY ST -122.279488  47.54511  Seattle    WA  POLICE OFFICER         Female        White                    7              No                2           Male  Black or African American  1994-11-17T00:00:00.000          20             No            NaN    No     Yes  Out of Policy                   No  On December 31st, 2014, at approximately 10:40...\n",
       "99   20140000431136  12/31/2014 09:55:00 PM  42XX BLOCK OF S EDDY ST -122.279488  47.54511  Seattle    WA  POLICE OFFICER           Male        White                    5              No                2         Female  Black or African American  1998-10-16T00:00:00.000          16             No            NaN    No     Yes  Out of Policy                   No  On December 31st, 2014, at approximately 10:40..."
      ]
     },
     "execution_count": 54,
     "metadata": {},
     "output_type": "execute_result"
    }
   ],
   "source": [
    "data[data['Incident Number'] == 20140000431136]"
   ]
  },
  {
   "cell_type": "code",
   "execution_count": 126,
   "metadata": {},
   "outputs": [],
   "source": [
    "key_phrases = {'documents': []}\n",
    "for i in range(0, data.shape[0], 10):\n",
    "    d = convert_text_to_JSON(data['Summary'], i, 10)\n",
    "    phrases = extract_key_phrases(d)\n",
    "    key_phrases['documents'] += phrases['documents']"
   ]
  },
  {
   "cell_type": "code",
   "execution_count": 117,
   "metadata": {},
   "outputs": [],
   "source": [
    "ner = {'documents': []}\n",
    "for i in range(0, data.shape[0], 5):\n",
    "    d = convert_text_to_JSON(data['Summary'], i, 5)\n",
    "    phrases = identify_entities(d)\n",
    "    ner['documents'] += phrases['documents']"
   ]
  },
  {
   "cell_type": "code",
   "execution_count": 121,
   "metadata": {},
   "outputs": [],
   "source": [
    "data['key_phrases'] = [0]*data.shape[0]\n",
    "data['key_phrases'] = data['key_phrases'].astype('object')\n",
    "phrases = []\n",
    "for row in key_phrases['documents']:\n",
    "    phrases.append(row['keyPhrases'])\n",
    "data['key_phrases'] = phrases"
   ]
  },
  {
   "cell_type": "code",
   "execution_count": 136,
   "metadata": {},
   "outputs": [],
   "source": [
    "data['ner'] = [0]*data.shape[0]\n",
    "data['ner'] = data['ner'].astype('object')\n",
    "phrases = []\n",
    "for row in ner['documents']:\n",
    "    phrases.append(row['entities'])\n",
    "data['ner'] = phrases"
   ]
  },
  {
   "cell_type": "code",
   "execution_count": 138,
   "metadata": {},
   "outputs": [
    {
     "data": {
      "text/html": [
       "<div>\n",
       "<style scoped>\n",
       "    .dataframe tbody tr th:only-of-type {\n",
       "        vertical-align: middle;\n",
       "    }\n",
       "\n",
       "    .dataframe tbody tr th {\n",
       "        vertical-align: top;\n",
       "    }\n",
       "\n",
       "    .dataframe thead th {\n",
       "        text-align: right;\n",
       "    }\n",
       "</style>\n",
       "<table border=\"1\" class=\"dataframe\">\n",
       "  <thead>\n",
       "    <tr style=\"text-align: right;\">\n",
       "      <th></th>\n",
       "      <th>Incident Number</th>\n",
       "      <th>Date / Time</th>\n",
       "      <th>Blurred Address</th>\n",
       "      <th>Longitude</th>\n",
       "      <th>Latitude</th>\n",
       "      <th>City</th>\n",
       "      <th>State</th>\n",
       "      <th>Rank</th>\n",
       "      <th>Officer Gender</th>\n",
       "      <th>Officer Race</th>\n",
       "      <th>Years of SPD Service</th>\n",
       "      <th>Officer Injured</th>\n",
       "      <th>Number of Rounds</th>\n",
       "      <th>Subject Gender</th>\n",
       "      <th>Subject Race</th>\n",
       "      <th>Subject DOB</th>\n",
       "      <th>Subject Age</th>\n",
       "      <th>Subject Weapon</th>\n",
       "      <th>Type of Weapon</th>\n",
       "      <th>Fatal</th>\n",
       "      <th>On-duty</th>\n",
       "      <th>Disposition</th>\n",
       "      <th>Officer Disciplined?</th>\n",
       "      <th>Summary</th>\n",
       "      <th>key_phrases</th>\n",
       "      <th>ner</th>\n",
       "    </tr>\n",
       "  </thead>\n",
       "  <tbody>\n",
       "    <tr>\n",
       "      <th>0</th>\n",
       "      <td>20050000118193</td>\n",
       "      <td>03/21/2005 06:28:00 PM</td>\n",
       "      <td>65XX BLOCK OF RAINIER AV S</td>\n",
       "      <td>-122.273741</td>\n",
       "      <td>47.543815</td>\n",
       "      <td>Seattle</td>\n",
       "      <td>WA</td>\n",
       "      <td>Officer</td>\n",
       "      <td>Male</td>\n",
       "      <td>White</td>\n",
       "      <td>20</td>\n",
       "      <td>No</td>\n",
       "      <td>1</td>\n",
       "      <td>Male</td>\n",
       "      <td>Asian</td>\n",
       "      <td>1975-11-03T00:00:00.000</td>\n",
       "      <td>29</td>\n",
       "      <td>Yes</td>\n",
       "      <td>Knife</td>\n",
       "      <td>Yes</td>\n",
       "      <td>Yes</td>\n",
       "      <td>Missing</td>\n",
       "      <td>Missing</td>\n",
       "      <td>On March 21st, 2005, at approximately 5:20 P.M...</td>\n",
       "      <td>[SWAT, subject, month old child hostage, Hosta...</td>\n",
       "      <td>[{'text': 'March 21st, 2005', 'category': 'Dat...</td>\n",
       "    </tr>\n",
       "    <tr>\n",
       "      <th>1</th>\n",
       "      <td>20050000174022</td>\n",
       "      <td>04/29/2005 03:30:00 AM</td>\n",
       "      <td>65XX BLOCK OF 1 AV S</td>\n",
       "      <td>-122.334513</td>\n",
       "      <td>47.544177</td>\n",
       "      <td>Seattle</td>\n",
       "      <td>WA</td>\n",
       "      <td>Officer</td>\n",
       "      <td>Male</td>\n",
       "      <td>White</td>\n",
       "      <td>5</td>\n",
       "      <td>No</td>\n",
       "      <td>2</td>\n",
       "      <td>Male</td>\n",
       "      <td>White</td>\n",
       "      <td>1969-08-02T00:00:00.000</td>\n",
       "      <td>36</td>\n",
       "      <td>No</td>\n",
       "      <td>NaN</td>\n",
       "      <td>Yes</td>\n",
       "      <td>Yes</td>\n",
       "      <td>Justified</td>\n",
       "      <td>No</td>\n",
       "      <td>On April 29th, 2005, at approximately 3:35 A.M...</td>\n",
       "      <td>[subject, officers’ firearms, Avenue South Bri...</td>\n",
       "      <td>[{'text': 'April 29th, 2005', 'category': 'Dat...</td>\n",
       "    </tr>\n",
       "    <tr>\n",
       "      <th>2</th>\n",
       "      <td>20050000256303</td>\n",
       "      <td>06/20/2005 11:30:00 AM</td>\n",
       "      <td>7XX BLOCK OF STEWART ST</td>\n",
       "      <td>-122.335725</td>\n",
       "      <td>47.614620</td>\n",
       "      <td>Seattle</td>\n",
       "      <td>WA</td>\n",
       "      <td>Officer</td>\n",
       "      <td>Male</td>\n",
       "      <td>White</td>\n",
       "      <td>15</td>\n",
       "      <td>No</td>\n",
       "      <td>1</td>\n",
       "      <td>Male</td>\n",
       "      <td>White</td>\n",
       "      <td>1952-11-15T00:00:00.000</td>\n",
       "      <td>53</td>\n",
       "      <td>Yes</td>\n",
       "      <td>Grenade, backpack reported to have explosives</td>\n",
       "      <td>Yes</td>\n",
       "      <td>Yes</td>\n",
       "      <td>Justified</td>\n",
       "      <td>No</td>\n",
       "      <td>On June 20th, 2005, at approximately 11:30 A.M...</td>\n",
       "      <td>[Federal Courthouse, male subject, lobby, cour...</td>\n",
       "      <td>[{'text': 'June 20th, 2005', 'category': 'Date...</td>\n",
       "    </tr>\n",
       "  </tbody>\n",
       "</table>\n",
       "</div>"
      ],
      "text/plain": [
       "   Incident Number             Date / Time             Blurred Address   Longitude   Latitude     City State     Rank Officer Gender Officer Race Years of SPD Service Officer Injured Number of Rounds Subject Gender Subject Race              Subject DOB Subject Age Subject Weapon                                 Type of Weapon Fatal On-duty Disposition Officer Disciplined?                                            Summary                                        key_phrases                                                ner\n",
       "0   20050000118193  03/21/2005 06:28:00 PM  65XX BLOCK OF RAINIER AV S -122.273741  47.543815  Seattle    WA  Officer           Male        White                   20              No                1           Male        Asian  1975-11-03T00:00:00.000          29            Yes                                          Knife   Yes     Yes     Missing              Missing  On March 21st, 2005, at approximately 5:20 P.M...  [SWAT, subject, month old child hostage, Hosta...  [{'text': 'March 21st, 2005', 'category': 'Dat...\n",
       "1   20050000174022  04/29/2005 03:30:00 AM        65XX BLOCK OF 1 AV S -122.334513  47.544177  Seattle    WA  Officer           Male        White                    5              No                2           Male        White  1969-08-02T00:00:00.000          36             No                                            NaN   Yes     Yes   Justified                   No  On April 29th, 2005, at approximately 3:35 A.M...  [subject, officers’ firearms, Avenue South Bri...  [{'text': 'April 29th, 2005', 'category': 'Dat...\n",
       "2   20050000256303  06/20/2005 11:30:00 AM     7XX BLOCK OF STEWART ST -122.335725  47.614620  Seattle    WA  Officer           Male        White                   15              No                1           Male        White  1952-11-15T00:00:00.000          53            Yes  Grenade, backpack reported to have explosives   Yes     Yes   Justified                   No  On June 20th, 2005, at approximately 11:30 A.M...  [Federal Courthouse, male subject, lobby, cour...  [{'text': 'June 20th, 2005', 'category': 'Date..."
      ]
     },
     "execution_count": 138,
     "metadata": {},
     "output_type": "execute_result"
    }
   ],
   "source": [
    "data.head(3)"
   ]
  },
  {
   "cell_type": "code",
   "execution_count": 139,
   "metadata": {},
   "outputs": [],
   "source": [
    "data.to_csv('updated_police_dataset.csv')"
   ]
  },
  {
   "cell_type": "code",
   "execution_count": 140,
   "metadata": {},
   "outputs": [],
   "source": [
    "updated_data = pd.read_csv('updated_police_dataset.csv')"
   ]
  },
  {
   "cell_type": "code",
   "execution_count": 141,
   "metadata": {},
   "outputs": [
    {
     "data": {
      "text/html": [
       "<div>\n",
       "<style scoped>\n",
       "    .dataframe tbody tr th:only-of-type {\n",
       "        vertical-align: middle;\n",
       "    }\n",
       "\n",
       "    .dataframe tbody tr th {\n",
       "        vertical-align: top;\n",
       "    }\n",
       "\n",
       "    .dataframe thead th {\n",
       "        text-align: right;\n",
       "    }\n",
       "</style>\n",
       "<table border=\"1\" class=\"dataframe\">\n",
       "  <thead>\n",
       "    <tr style=\"text-align: right;\">\n",
       "      <th></th>\n",
       "      <th>Unnamed: 0</th>\n",
       "      <th>Incident Number</th>\n",
       "      <th>Date / Time</th>\n",
       "      <th>Blurred Address</th>\n",
       "      <th>Longitude</th>\n",
       "      <th>Latitude</th>\n",
       "      <th>City</th>\n",
       "      <th>State</th>\n",
       "      <th>Rank</th>\n",
       "      <th>Officer Gender</th>\n",
       "      <th>Officer Race</th>\n",
       "      <th>Years of SPD Service</th>\n",
       "      <th>Officer Injured</th>\n",
       "      <th>Number of Rounds</th>\n",
       "      <th>Subject Gender</th>\n",
       "      <th>Subject Race</th>\n",
       "      <th>Subject DOB</th>\n",
       "      <th>Subject Age</th>\n",
       "      <th>Subject Weapon</th>\n",
       "      <th>Type of Weapon</th>\n",
       "      <th>Fatal</th>\n",
       "      <th>On-duty</th>\n",
       "      <th>Disposition</th>\n",
       "      <th>Officer Disciplined?</th>\n",
       "      <th>Summary</th>\n",
       "      <th>key_phrases</th>\n",
       "      <th>ner</th>\n",
       "    </tr>\n",
       "  </thead>\n",
       "  <tbody>\n",
       "    <tr>\n",
       "      <th>0</th>\n",
       "      <td>0</td>\n",
       "      <td>20050000118193</td>\n",
       "      <td>03/21/2005 06:28:00 PM</td>\n",
       "      <td>65XX BLOCK OF RAINIER AV S</td>\n",
       "      <td>-122.273741</td>\n",
       "      <td>47.543815</td>\n",
       "      <td>Seattle</td>\n",
       "      <td>WA</td>\n",
       "      <td>Officer</td>\n",
       "      <td>Male</td>\n",
       "      <td>White</td>\n",
       "      <td>20</td>\n",
       "      <td>No</td>\n",
       "      <td>1</td>\n",
       "      <td>Male</td>\n",
       "      <td>Asian</td>\n",
       "      <td>1975-11-03T00:00:00.000</td>\n",
       "      <td>29</td>\n",
       "      <td>Yes</td>\n",
       "      <td>Knife</td>\n",
       "      <td>Yes</td>\n",
       "      <td>Yes</td>\n",
       "      <td>Missing</td>\n",
       "      <td>Missing</td>\n",
       "      <td>On March 21st, 2005, at approximately 5:20 P.M...</td>\n",
       "      <td>['SWAT', 'subject', 'month old child hostage',...</td>\n",
       "      <td>[{'text': 'March 21st, 2005', 'category': 'Dat...</td>\n",
       "    </tr>\n",
       "    <tr>\n",
       "      <th>1</th>\n",
       "      <td>1</td>\n",
       "      <td>20050000174022</td>\n",
       "      <td>04/29/2005 03:30:00 AM</td>\n",
       "      <td>65XX BLOCK OF 1 AV S</td>\n",
       "      <td>-122.334513</td>\n",
       "      <td>47.544177</td>\n",
       "      <td>Seattle</td>\n",
       "      <td>WA</td>\n",
       "      <td>Officer</td>\n",
       "      <td>Male</td>\n",
       "      <td>White</td>\n",
       "      <td>5</td>\n",
       "      <td>No</td>\n",
       "      <td>2</td>\n",
       "      <td>Male</td>\n",
       "      <td>White</td>\n",
       "      <td>1969-08-02T00:00:00.000</td>\n",
       "      <td>36</td>\n",
       "      <td>No</td>\n",
       "      <td>NaN</td>\n",
       "      <td>Yes</td>\n",
       "      <td>Yes</td>\n",
       "      <td>Justified</td>\n",
       "      <td>No</td>\n",
       "      <td>On April 29th, 2005, at approximately 3:35 A.M...</td>\n",
       "      <td>['subject', 'officers’ firearms', 'Avenue Sout...</td>\n",
       "      <td>[{'text': 'April 29th, 2005', 'category': 'Dat...</td>\n",
       "    </tr>\n",
       "    <tr>\n",
       "      <th>2</th>\n",
       "      <td>2</td>\n",
       "      <td>20050000256303</td>\n",
       "      <td>06/20/2005 11:30:00 AM</td>\n",
       "      <td>7XX BLOCK OF STEWART ST</td>\n",
       "      <td>-122.335725</td>\n",
       "      <td>47.614620</td>\n",
       "      <td>Seattle</td>\n",
       "      <td>WA</td>\n",
       "      <td>Officer</td>\n",
       "      <td>Male</td>\n",
       "      <td>White</td>\n",
       "      <td>15</td>\n",
       "      <td>No</td>\n",
       "      <td>1</td>\n",
       "      <td>Male</td>\n",
       "      <td>White</td>\n",
       "      <td>1952-11-15T00:00:00.000</td>\n",
       "      <td>53</td>\n",
       "      <td>Yes</td>\n",
       "      <td>Grenade, backpack reported to have explosives</td>\n",
       "      <td>Yes</td>\n",
       "      <td>Yes</td>\n",
       "      <td>Justified</td>\n",
       "      <td>No</td>\n",
       "      <td>On June 20th, 2005, at approximately 11:30 A.M...</td>\n",
       "      <td>['Federal Courthouse', 'male subject', 'lobby'...</td>\n",
       "      <td>[{'text': 'June 20th, 2005', 'category': 'Date...</td>\n",
       "    </tr>\n",
       "  </tbody>\n",
       "</table>\n",
       "</div>"
      ],
      "text/plain": [
       "   Unnamed: 0  Incident Number             Date / Time             Blurred Address   Longitude   Latitude     City State     Rank Officer Gender Officer Race Years of SPD Service Officer Injured Number of Rounds Subject Gender Subject Race              Subject DOB Subject Age Subject Weapon                                 Type of Weapon Fatal On-duty Disposition Officer Disciplined?                                            Summary                                        key_phrases                                                ner\n",
       "0           0   20050000118193  03/21/2005 06:28:00 PM  65XX BLOCK OF RAINIER AV S -122.273741  47.543815  Seattle    WA  Officer           Male        White                   20              No                1           Male        Asian  1975-11-03T00:00:00.000          29            Yes                                          Knife   Yes     Yes     Missing              Missing  On March 21st, 2005, at approximately 5:20 P.M...  ['SWAT', 'subject', 'month old child hostage',...  [{'text': 'March 21st, 2005', 'category': 'Dat...\n",
       "1           1   20050000174022  04/29/2005 03:30:00 AM        65XX BLOCK OF 1 AV S -122.334513  47.544177  Seattle    WA  Officer           Male        White                    5              No                2           Male        White  1969-08-02T00:00:00.000          36             No                                            NaN   Yes     Yes   Justified                   No  On April 29th, 2005, at approximately 3:35 A.M...  ['subject', 'officers’ firearms', 'Avenue Sout...  [{'text': 'April 29th, 2005', 'category': 'Dat...\n",
       "2           2   20050000256303  06/20/2005 11:30:00 AM     7XX BLOCK OF STEWART ST -122.335725  47.614620  Seattle    WA  Officer           Male        White                   15              No                1           Male        White  1952-11-15T00:00:00.000          53            Yes  Grenade, backpack reported to have explosives   Yes     Yes   Justified                   No  On June 20th, 2005, at approximately 11:30 A.M...  ['Federal Courthouse', 'male subject', 'lobby'...  [{'text': 'June 20th, 2005', 'category': 'Date..."
      ]
     },
     "execution_count": 141,
     "metadata": {},
     "output_type": "execute_result"
    }
   ],
   "source": [
    "updated_data.head(3)"
   ]
  },
  {
   "cell_type": "code",
   "execution_count": null,
   "metadata": {},
   "outputs": [],
   "source": []
  }
 ],
 "metadata": {
  "kernelspec": {
   "display_name": "Python 3.7.4 64-bit",
   "language": "python",
   "name": "python37464bite5196ea89f9243d7ba912a5fbd6bdc1c"
  },
  "language_info": {
   "codemirror_mode": {
    "name": "ipython",
    "version": 3
   },
   "file_extension": ".py",
   "mimetype": "text/x-python",
   "name": "python",
   "nbconvert_exporter": "python",
   "pygments_lexer": "ipython3",
   "version": "3.7.4"
  }
 },
 "nbformat": 4,
 "nbformat_minor": 4
}
